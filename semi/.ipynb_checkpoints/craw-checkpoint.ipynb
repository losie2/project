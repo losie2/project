{
 "cells": [
  {
   "cell_type": "code",
   "execution_count": 1,
   "id": "00571fac",
   "metadata": {},
   "outputs": [],
   "source": [
    "from selenium import webdriver\n",
    "import time\n",
    "from urllib.request import (urlopen, urlparse, urlunparse, urlretrieve)"
   ]
  },
  {
   "cell_type": "code",
   "execution_count": 2,
   "id": "f9ddb479",
   "metadata": {},
   "outputs": [],
   "source": [
    "chrome_path='C:\\chromedriver\\chromedriver.exe'\n",
    "base_url = \"https://www.google.co.kr/imghp\""
   ]
  },
  {
   "cell_type": "code",
   "execution_count": 3,
   "id": "75a32d7f",
   "metadata": {},
   "outputs": [
    {
     "name": "stderr",
     "output_type": "stream",
     "text": [
      "C:\\Users\\Losie\\AppData\\Local\\Temp/ipykernel_15984/2568273241.py:5: DeprecationWarning: executable_path has been deprecated, please pass in a Service object\n",
      "  driver = webdriver.Chrome(chrome_path,chrome_options=chrome_options)\n",
      "C:\\Users\\Losie\\AppData\\Local\\Temp/ipykernel_15984/2568273241.py:5: DeprecationWarning: use options instead of chrome_options\n",
      "  driver = webdriver.Chrome(chrome_path,chrome_options=chrome_options)\n"
     ]
    }
   ],
   "source": [
    "chrome_options = webdriver.ChromeOptions()\n",
    "chrome_options.add_argument(\"lang=ko_KR\")\n",
    "chrome_options.add_argument('window-size=1920x1080')\n",
    "\n",
    "driver = webdriver.Chrome(chrome_path,chrome_options=chrome_options)\n",
    "driver.get(base_url)\n",
    "driver.implicitly_wait(3) # element가 로드될 때까지 지정한 시간만큼 대기할 수 있도록 설정\n",
    "driver.get_screenshot_as_file('google_screen.png')\n",
    "driver.close()"
   ]
  },
  {
   "cell_type": "code",
   "execution_count": 4,
   "id": "dac6096b",
   "metadata": {},
   "outputs": [],
   "source": [
    "def selenium_scroll_option():\n",
    "  SCROLL_PAUSE_SEC = 3\n",
    "  \n",
    "  # 스크롤 높이 가져옴\n",
    "  last_height = driver.execute_script(\"return document.body.scrollHeight\")\n",
    "  \n",
    "  while True:\n",
    "    # 끝까지 스크롤 다운\n",
    "    driver.execute_script(\"window.scrollTo(0, document.body.scrollHeight);\")\n",
    "\n",
    "    # 1초 대기\n",
    "    time.sleep(SCROLL_PAUSE_SEC)\n",
    "\n",
    "    # 스크롤 다운 후 스크롤 높이 다시 가져옴\n",
    "    new_height = driver.execute_script(\"return document.body.scrollHeight\")\n",
    "  \n",
    "    if new_height == last_height:\n",
    "        break\n",
    "    last_height = new_height"
   ]
  },
  {
   "cell_type": "code",
   "execution_count": 5,
   "id": "6a613d60",
   "metadata": {},
   "outputs": [],
   "source": [
    "import os"
   ]
  },
  {
   "cell_type": "code",
   "execution_count": 6,
   "id": "06542f37",
   "metadata": {},
   "outputs": [],
   "source": [
    "directory_list = [\n",
    "    './dataset/carrot/',\n",
    "    './dataset/cucumber/',\n",
    "    './dataset/garlic/',\n",
    "    './dataset/onion/',\n",
    "    './dataset/potato/',\n",
    "    './dataset/banana/',\n",
    "    './dataset/pengi_mushroom/',\n",
    "    './dataset/pork/',\n",
    "    './dataset/strawberry/',\n",
    "]\n",
    "\n",
    "# 초기 디렉토리 만들기\n",
    "for directory in directory_list:\n",
    "    if not os.path.isdir(directory):\n",
    "        os.makedirs(directory)"
   ]
  },
  {
   "cell_type": "code",
   "execution_count": 7,
   "id": "24d712a6",
   "metadata": {
    "scrolled": false
   },
   "outputs": [
    {
     "data": {
      "text/plain": [
       "['./dataset/carrot/',\n",
       " './dataset/cucumber/',\n",
       " './dataset/garlic/',\n",
       " './dataset/onion/',\n",
       " './dataset/potato/',\n",
       " './dataset/banana/',\n",
       " './dataset/pengi_mushroom/',\n",
       " './dataset/pork/',\n",
       " './dataset/strawberry/']"
      ]
     },
     "execution_count": 7,
     "metadata": {},
     "output_type": "execute_result"
    }
   ],
   "source": [
    "directory_list"
   ]
  },
  {
   "cell_type": "code",
   "execution_count": 8,
   "id": "547edc2e",
   "metadata": {},
   "outputs": [],
   "source": [
    "carrot = './dataset/carrot/'\n",
    "cucumber = './dataset/cucumber/'\n",
    "garlic = './dataset/garlic/'\n",
    "onion = './dataset/onion/'\n",
    "potato = './dataset/potato/'\n",
    "banana = './dataset/banana/'\n",
    "mushroom = './dataset/pengi_mushroom/'\n",
    "pork = './dataset/pork/'\n",
    "strawberry = './dataset/strawberry/'"
   ]
  },
  {
   "cell_type": "code",
   "execution_count": 15,
   "id": "6f861e26",
   "metadata": {},
   "outputs": [
    {
     "name": "stdout",
     "output_type": "stream",
     "text": [
      "검색할 키워드를 입력 : banana\n",
      "저장할 이미지 이름 : banana\n"
     ]
    },
    {
     "name": "stderr",
     "output_type": "stream",
     "text": [
      "C:\\Users\\Losie\\AppData\\Local\\Temp/ipykernel_15984/905408911.py:13: DeprecationWarning: executable_path has been deprecated, please pass in a Service object\n",
      "  driver = webdriver.Chrome(chrome_path)\n",
      "C:\\Users\\Losie\\AppData\\Local\\Temp/ipykernel_15984/905408911.py:15: DeprecationWarning: find_element_by_* commands are deprecated. Please use find_element() instead\n",
      "  browser = driver.find_element_by_name(\"q\")\n",
      "C:\\Users\\Losie\\AppData\\Local\\Temp/ipykernel_15984/905408911.py:24: DeprecationWarning: find_elements_by_* commands are deprecated. Please use find_elements() instead\n",
      "  driver.find_elements_by_xpath('//*[@id=\"islmp\"]/div/div/div/div[1]/div[2]/div[2]/input')[0].click() # 이미지 더보기 클릭\n",
      "C:\\Users\\Losie\\AppData\\Local\\Temp/ipykernel_15984/905408911.py:31: DeprecationWarning: find_elements_by_* commands are deprecated. Please use find_elements() instead\n",
      "  images = driver.find_elements_by_css_selector(\".rg_i.Q4LuWd\") #  클래스 네임에서 공백은 .을 찍어줌\n"
     ]
    },
    {
     "name": "stdout",
     "output_type": "stream",
     "text": [
      "전체 다운로드한 이미지 개수: 624\n",
      "동일한 이미지를 제거한 이미지 개수: 580\n"
     ]
    },
    {
     "ename": "InvalidSessionIdException",
     "evalue": "Message: invalid session id\nStacktrace:\nBacktrace:\n\tOrdinal0 [0x010E7413+2389011]\n\tOrdinal0 [0x01079F61+1941345]\n\tOrdinal0 [0x00F6C520+836896]\n\tOrdinal0 [0x00F8DFC0+974784]\n\tOrdinal0 [0x00FB4040+1130560]\n\tOrdinal0 [0x00FB1E88+1121928]\n\tOrdinal0 [0x00FB1A29+1120809]\n\tOrdinal0 [0x00F4D207+709127]\n\tOrdinal0 [0x00F4D783+710531]\n\tOrdinal0 [0x00F4DBBA+711610]\n\tGetHandleVerifier [0x01299632+1727522]\n\tGetHandleVerifier [0x0134BA4D+2457661]\n\tGetHandleVerifier [0x0117EB81+569713]\n\tGetHandleVerifier [0x0117DD76+566118]\n\tOrdinal0 [0x01080B2B+1968939]\n\tOrdinal0 [0x00F4CF97+708503]\n\tOrdinal0 [0x00F4CA48+707144]\n\tGetHandleVerifier [0x0137110C+2610940]\n\tBaseThreadInitThunk [0x7508FA29+25]\n\tRtlGetAppContainerNamedObjectPath [0x770D7A7E+286]\n\tRtlGetAppContainerNamedObjectPath [0x770D7A4E+238]\n",
     "output_type": "error",
     "traceback": [
      "\u001b[1;31m---------------------------------------------------------------------------\u001b[0m",
      "\u001b[1;31mInvalidSessionIdException\u001b[0m                 Traceback (most recent call last)",
      "\u001b[1;32m~\\AppData\\Local\\Temp/ipykernel_15984/905408911.py\u001b[0m in \u001b[0;36m<module>\u001b[1;34m\u001b[0m\n\u001b[0;32m    100\u001b[0m     \u001b[1;32mfor\u001b[0m \u001b[0mt\u001b[0m\u001b[1;33m,\u001b[0m \u001b[0murl\u001b[0m \u001b[1;32min\u001b[0m \u001b[0menumerate\u001b[0m\u001b[1;33m(\u001b[0m\u001b[0mimages_url\u001b[0m\u001b[1;33m,\u001b[0m \u001b[1;36m0\u001b[0m\u001b[1;33m)\u001b[0m\u001b[1;33m:\u001b[0m\u001b[1;33m\u001b[0m\u001b[1;33m\u001b[0m\u001b[0m\n\u001b[0;32m    101\u001b[0m         \u001b[0murlretrieve\u001b[0m\u001b[1;33m(\u001b[0m\u001b[0murl\u001b[0m\u001b[1;33m,\u001b[0m \u001b[0mbanana\u001b[0m \u001b[1;33m+\u001b[0m \u001b[0mimage_name\u001b[0m \u001b[1;33m+\u001b[0m \u001b[1;34m'_'\u001b[0m \u001b[1;33m+\u001b[0m \u001b[0mstr\u001b[0m\u001b[1;33m(\u001b[0m\u001b[0mt\u001b[0m\u001b[1;33m)\u001b[0m \u001b[1;33m+\u001b[0m \u001b[1;34m'.jpg'\u001b[0m\u001b[1;33m)\u001b[0m\u001b[1;33m\u001b[0m\u001b[1;33m\u001b[0m\u001b[0m\n\u001b[1;32m--> 102\u001b[1;33m     \u001b[0mdriver\u001b[0m\u001b[1;33m.\u001b[0m\u001b[0mclose\u001b[0m\u001b[1;33m(\u001b[0m\u001b[1;33m)\u001b[0m\u001b[1;33m\u001b[0m\u001b[1;33m\u001b[0m\u001b[0m\n\u001b[0m",
      "\u001b[1;32m~\\anaconda3\\lib\\site-packages\\selenium\\webdriver\\remote\\webdriver.py\u001b[0m in \u001b[0;36mclose\u001b[1;34m(self)\u001b[0m\n\u001b[0;32m    929\u001b[0m                 \u001b[0mdriver\u001b[0m\u001b[1;33m.\u001b[0m\u001b[0mclose\u001b[0m\u001b[1;33m(\u001b[0m\u001b[1;33m)\u001b[0m\u001b[1;33m\u001b[0m\u001b[1;33m\u001b[0m\u001b[0m\n\u001b[0;32m    930\u001b[0m         \"\"\"\n\u001b[1;32m--> 931\u001b[1;33m         \u001b[0mself\u001b[0m\u001b[1;33m.\u001b[0m\u001b[0mexecute\u001b[0m\u001b[1;33m(\u001b[0m\u001b[0mCommand\u001b[0m\u001b[1;33m.\u001b[0m\u001b[0mCLOSE\u001b[0m\u001b[1;33m)\u001b[0m\u001b[1;33m\u001b[0m\u001b[1;33m\u001b[0m\u001b[0m\n\u001b[0m\u001b[0;32m    932\u001b[0m \u001b[1;33m\u001b[0m\u001b[0m\n\u001b[0;32m    933\u001b[0m     \u001b[1;32mdef\u001b[0m \u001b[0mquit\u001b[0m\u001b[1;33m(\u001b[0m\u001b[0mself\u001b[0m\u001b[1;33m)\u001b[0m \u001b[1;33m->\u001b[0m \u001b[1;32mNone\u001b[0m\u001b[1;33m:\u001b[0m\u001b[1;33m\u001b[0m\u001b[1;33m\u001b[0m\u001b[0m\n",
      "\u001b[1;32m~\\anaconda3\\lib\\site-packages\\selenium\\webdriver\\remote\\webdriver.py\u001b[0m in \u001b[0;36mexecute\u001b[1;34m(self, driver_command, params)\u001b[0m\n\u001b[0;32m    416\u001b[0m         \u001b[0mresponse\u001b[0m \u001b[1;33m=\u001b[0m \u001b[0mself\u001b[0m\u001b[1;33m.\u001b[0m\u001b[0mcommand_executor\u001b[0m\u001b[1;33m.\u001b[0m\u001b[0mexecute\u001b[0m\u001b[1;33m(\u001b[0m\u001b[0mdriver_command\u001b[0m\u001b[1;33m,\u001b[0m \u001b[0mparams\u001b[0m\u001b[1;33m)\u001b[0m\u001b[1;33m\u001b[0m\u001b[1;33m\u001b[0m\u001b[0m\n\u001b[0;32m    417\u001b[0m         \u001b[1;32mif\u001b[0m \u001b[0mresponse\u001b[0m\u001b[1;33m:\u001b[0m\u001b[1;33m\u001b[0m\u001b[1;33m\u001b[0m\u001b[0m\n\u001b[1;32m--> 418\u001b[1;33m             \u001b[0mself\u001b[0m\u001b[1;33m.\u001b[0m\u001b[0merror_handler\u001b[0m\u001b[1;33m.\u001b[0m\u001b[0mcheck_response\u001b[0m\u001b[1;33m(\u001b[0m\u001b[0mresponse\u001b[0m\u001b[1;33m)\u001b[0m\u001b[1;33m\u001b[0m\u001b[1;33m\u001b[0m\u001b[0m\n\u001b[0m\u001b[0;32m    419\u001b[0m             response['value'] = self._unwrap_value(\n\u001b[0;32m    420\u001b[0m                 response.get('value', None))\n",
      "\u001b[1;32m~\\anaconda3\\lib\\site-packages\\selenium\\webdriver\\remote\\errorhandler.py\u001b[0m in \u001b[0;36mcheck_response\u001b[1;34m(self, response)\u001b[0m\n\u001b[0;32m    241\u001b[0m                 \u001b[0malert_text\u001b[0m \u001b[1;33m=\u001b[0m \u001b[0mvalue\u001b[0m\u001b[1;33m[\u001b[0m\u001b[1;34m'alert'\u001b[0m\u001b[1;33m]\u001b[0m\u001b[1;33m.\u001b[0m\u001b[0mget\u001b[0m\u001b[1;33m(\u001b[0m\u001b[1;34m'text'\u001b[0m\u001b[1;33m)\u001b[0m\u001b[1;33m\u001b[0m\u001b[1;33m\u001b[0m\u001b[0m\n\u001b[0;32m    242\u001b[0m             \u001b[1;32mraise\u001b[0m \u001b[0mexception_class\u001b[0m\u001b[1;33m(\u001b[0m\u001b[0mmessage\u001b[0m\u001b[1;33m,\u001b[0m \u001b[0mscreen\u001b[0m\u001b[1;33m,\u001b[0m \u001b[0mstacktrace\u001b[0m\u001b[1;33m,\u001b[0m \u001b[0malert_text\u001b[0m\u001b[1;33m)\u001b[0m  \u001b[1;31m# type: ignore[call-arg]  # mypy is not smart enough here\u001b[0m\u001b[1;33m\u001b[0m\u001b[1;33m\u001b[0m\u001b[0m\n\u001b[1;32m--> 243\u001b[1;33m         \u001b[1;32mraise\u001b[0m \u001b[0mexception_class\u001b[0m\u001b[1;33m(\u001b[0m\u001b[0mmessage\u001b[0m\u001b[1;33m,\u001b[0m \u001b[0mscreen\u001b[0m\u001b[1;33m,\u001b[0m \u001b[0mstacktrace\u001b[0m\u001b[1;33m)\u001b[0m\u001b[1;33m\u001b[0m\u001b[1;33m\u001b[0m\u001b[0m\n\u001b[0m\u001b[0;32m    244\u001b[0m \u001b[1;33m\u001b[0m\u001b[0m\n\u001b[0;32m    245\u001b[0m     \u001b[1;32mdef\u001b[0m \u001b[0m_value_or_default\u001b[0m\u001b[1;33m(\u001b[0m\u001b[0mself\u001b[0m\u001b[1;33m,\u001b[0m \u001b[0mobj\u001b[0m\u001b[1;33m:\u001b[0m \u001b[0mMapping\u001b[0m\u001b[1;33m[\u001b[0m\u001b[0m_KT\u001b[0m\u001b[1;33m,\u001b[0m \u001b[0m_VT\u001b[0m\u001b[1;33m]\u001b[0m\u001b[1;33m,\u001b[0m \u001b[0mkey\u001b[0m\u001b[1;33m:\u001b[0m \u001b[0m_KT\u001b[0m\u001b[1;33m,\u001b[0m \u001b[0mdefault\u001b[0m\u001b[1;33m:\u001b[0m \u001b[0m_VT\u001b[0m\u001b[1;33m)\u001b[0m \u001b[1;33m->\u001b[0m \u001b[0m_VT\u001b[0m\u001b[1;33m:\u001b[0m\u001b[1;33m\u001b[0m\u001b[1;33m\u001b[0m\u001b[0m\n",
      "\u001b[1;31mInvalidSessionIdException\u001b[0m: Message: invalid session id\nStacktrace:\nBacktrace:\n\tOrdinal0 [0x010E7413+2389011]\n\tOrdinal0 [0x01079F61+1941345]\n\tOrdinal0 [0x00F6C520+836896]\n\tOrdinal0 [0x00F8DFC0+974784]\n\tOrdinal0 [0x00FB4040+1130560]\n\tOrdinal0 [0x00FB1E88+1121928]\n\tOrdinal0 [0x00FB1A29+1120809]\n\tOrdinal0 [0x00F4D207+709127]\n\tOrdinal0 [0x00F4D783+710531]\n\tOrdinal0 [0x00F4DBBA+711610]\n\tGetHandleVerifier [0x01299632+1727522]\n\tGetHandleVerifier [0x0134BA4D+2457661]\n\tGetHandleVerifier [0x0117EB81+569713]\n\tGetHandleVerifier [0x0117DD76+566118]\n\tOrdinal0 [0x01080B2B+1968939]\n\tOrdinal0 [0x00F4CF97+708503]\n\tOrdinal0 [0x00F4CA48+707144]\n\tGetHandleVerifier [0x0137110C+2610940]\n\tBaseThreadInitThunk [0x7508FA29+25]\n\tRtlGetAppContainerNamedObjectPath [0x770D7A7E+286]\n\tRtlGetAppContainerNamedObjectPath [0x770D7A4E+238]\n"
     ]
    }
   ],
   "source": [
    "from selenium import webdriver\n",
    "from selenium.webdriver.common.keys import Keys\n",
    "import time\n",
    "import urllib.request\n",
    "import os\n",
    "import pandas as pd\n",
    "\n",
    "# 키워드 검색하기\n",
    "\n",
    "a=input(\"검색할 키워드를 입력 : \")\n",
    "image_name = input(\"저장할 이미지 이름 : \")\n",
    "#b=int(input(\"몇 개 저장할래? : \"))\n",
    "driver = webdriver.Chrome(chrome_path)\n",
    "driver.get('http://www.google.co.kr/imghp?hl=ko')\n",
    "browser = driver.find_element_by_name(\"q\")\n",
    "browser.send_keys(a)\n",
    "browser.send_keys(Keys.RETURN)\n",
    "\n",
    "\n",
    "\n",
    "# 클래스를 찾고 해당 클래스의 src 리스트를 만들자\n",
    "\n",
    "selenium_scroll_option() # 스크롤하여 이미지를 많이 확보\n",
    "driver.find_elements_by_xpath('//*[@id=\"islmp\"]/div/div/div/div[1]/div[2]/div[2]/input')[0].click() # 이미지 더보기 클릭\n",
    "selenium_scroll_option()\n",
    "\n",
    "\n",
    "\n",
    "'''이미지 src요소를 리스트업해서 이미지 url 저장'''\n",
    "\n",
    "images = driver.find_elements_by_css_selector(\".rg_i.Q4LuWd\") #  클래스 네임에서 공백은 .을 찍어줌\n",
    "images_url = []\n",
    "for i in images: \n",
    "   \n",
    "   if i.get_attribute('src')!= None :\n",
    "        images_url.append(i.get_attribute('src'))\n",
    "   else :\n",
    "       images_url.append(i.get_attribute('data-src'))\n",
    "driver.close()\n",
    "\n",
    "\n",
    "\n",
    "# 겹치는 이미지 url 제거\n",
    "\n",
    "print(\"전체 다운로드한 이미지 개수: {}\\n동일한 이미지를 제거한 이미지 개수: {}\".format(len(images_url), len(pd.DataFrame(images_url)[0].unique())))\n",
    "images_url=pd.DataFrame(images_url)[0].unique()\n",
    "\n",
    "\n",
    "        \n",
    "#'''해당하는 파일에 이미지 다운로드'''        \n",
    "   \n",
    "\n",
    "if image_name == 'carrot' :\n",
    "    for t, url in enumerate(images_url, 0):        \n",
    "        urlretrieve(url, carrot + image_name + '_' + str(t) + '.jpg')\n",
    "    driver.close()    \n",
    "    \n",
    "elif image_name == 'cucumber' :\n",
    "    for t, url in enumerate(images_url, 0):        \n",
    "        urlretrieve(url, cucumber + image_name + '_' + str(t) + '.jpg')\n",
    "    driver.close()\n",
    "    \n",
    "    \n",
    "elif image_name == 'garlic' :\n",
    "    for t, url in enumerate(images_url, 0):        \n",
    "        urlretrieve(url, garlic + image_name + '_' + str(t) + '.jpg')\n",
    "    driver.close()    \n",
    "\n",
    "elif image_name == 'potato' :   \n",
    "    for t, url in enumerate(images_url, 0):        \n",
    "        urlretrieve(url, potato + image_name + '_' + str(t) + '.jpg')\n",
    "    driver.close()\n",
    "    \n",
    "\n",
    "\n",
    "\n",
    "\n",
    "\n",
    "elif image_name == 'pengi_mushroom' :\n",
    "    for t, url in enumerate(images_url, 0):        \n",
    "        urlretrieve(url, pengi_mushroom + image_name + '_' + str(t) + '.jpg')\n",
    "    driver.close()\n",
    "\n",
    "elif image_name == 'strawberry' :\n",
    "    for t, url in enumerate(images_url, 0):        \n",
    "        urlretrieve(url, strawberry + image_name + '_' + str(t) + '.jpg')\n",
    "    driver.close()\n",
    "\n",
    "elif image_name == 'pork' :\n",
    "    for t, url in enumerate(images_url, 0):        \n",
    "        urlretrieve(url, pork + image_name + '_' + str(t) + '.jpg')\n",
    "    driver.close()\n",
    "\n",
    "elif image_name == 'onion' :\n",
    "    for t, url in enumerate(images_url, 0):        \n",
    "        urlretrieve(url, onion + image_name + '_' + str(t) + '.jpg')\n",
    "    driver.close()\n",
    "\n",
    "elif image_name == 'banana' :\n",
    "    for t, url in enumerate(images_url, 0):        \n",
    "        urlretrieve(url, banana + image_name + '_' + str(t) + '.jpg')\n",
    "    driver.close()"
   ]
  },
  {
   "cell_type": "code",
   "execution_count": null,
   "id": "3cae1b7e",
   "metadata": {},
   "outputs": [],
   "source": []
  }
 ],
 "metadata": {
  "kernelspec": {
   "display_name": "Python 3 (ipykernel)",
   "language": "python",
   "name": "python3"
  },
  "language_info": {
   "codemirror_mode": {
    "name": "ipython",
    "version": 3
   },
   "file_extension": ".py",
   "mimetype": "text/x-python",
   "name": "python",
   "nbconvert_exporter": "python",
   "pygments_lexer": "ipython3",
   "version": "3.8.3"
  }
 },
 "nbformat": 4,
 "nbformat_minor": 5
}
