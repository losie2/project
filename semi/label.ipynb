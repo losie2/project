{
 "cells": [
  {
   "cell_type": "code",
   "execution_count": 1,
   "id": "205e6e59",
   "metadata": {},
   "outputs": [],
   "source": [
    "from PIL import Image\n",
    "import os\n",
    "import glob"
   ]
  },
  {
   "cell_type": "code",
   "execution_count": 32,
   "id": "c923ebba",
   "metadata": {
    "scrolled": true
   },
   "outputs": [
    {
     "name": "stdout",
     "output_type": "stream",
     "text": [
      "C:\\Users\\Losie\\semi\\dataset\n",
      "InValid strawberry_99.jpg\n",
      "C:\\Users\\Losie\\semi\\dataset\\banana\n",
      "InValid banana_99.jpg\n",
      "C:\\Users\\Losie\\semi\\dataset\\carrot\n",
      "InValid carrot_99.jpg\n",
      "C:\\Users\\Losie\\semi\\dataset\\cucumber\n",
      "InValid cucumber_99.jpg\n",
      "C:\\Users\\Losie\\semi\\dataset\\garlic\n",
      "InValid garlic_99.jpg\n",
      "C:\\Users\\Losie\\semi\\dataset\\onion\n",
      "InValid onion_99.jpg\n",
      "C:\\Users\\Losie\\semi\\dataset\\onion\\dataset\n",
      "InValid onion_99.jpg\n",
      "C:\\Users\\Losie\\semi\\dataset\\onion\\dataset\\potato\n",
      "InValid onion_99.jpg\n",
      "C:\\Users\\Losie\\semi\\dataset\\pengi_mushroom\n",
      "InValid pengi_mushroom_98.jpg\n",
      "C:\\Users\\Losie\\semi\\dataset\\pork\n",
      "InValid pork_99.jpg\n",
      "C:\\Users\\Losie\\semi\\dataset\\potato\n",
      "InValid potato_9_half.jpg\n",
      "C:\\Users\\Losie\\semi\\dataset\\strawberry\n",
      "InValid strawberry_98.jpg\n"
     ]
    }
   ],
   "source": [
    "from PIL import Image\n",
    "import os.path\n",
    "\n",
    "targerdir = r\"C:\\Users\\Losie\\semi\\dataset\" #해당 폴더 설정 \n",
    "\n",
    "files = os.listdir(targerdir)\n",
    "\n",
    "index = 0\n",
    "\n",
    "format = [\".jpg\",\".png\",\".jpeg\",\"bmp\",\".JPG\",\".PNG\",\"JPEG\",\"BMP\"] #지원하는 파일 형태의 확장자들\n",
    "for (path,dirs,files) in os.walk(targerdir):\n",
    "    for file in files:\n",
    "        if file.endswith(tuple(format)):\n",
    "                image = Image.open(path+\"\\\\\"+file)\n",
    "        if image.size == (416, 416):\n",
    "            continue\n",
    "        print(image.filename)\n",
    "        print(image.size)\n",
    "        index += 1\n",
    "        image=image.resize((416, 416))\n",
    "        image.save(path+\"\\\\\"+file)\n",
    "        print(image.size)\n",
    "    else:\n",
    "        print(path)\n",
    "        print(\"InValid\",file)"
   ]
  },
  {
   "cell_type": "code",
   "execution_count": 30,
   "id": "e451d1aa",
   "metadata": {},
   "outputs": [],
   "source": [
    "import os\n",
    "import glob\n",
    "from PIL import Image\n",
    "\n",
    "\n",
    "files = glob.glob('./dataset/strawberry/*.jpg')"
   ]
  },
  {
   "cell_type": "code",
   "execution_count": 3,
   "id": "5b048cb3",
   "metadata": {},
   "outputs": [],
   "source": [
    "flen = 0\n",
    "for f in files:\n",
    "    flen += 1"
   ]
  },
  {
   "cell_type": "code",
   "execution_count": 4,
   "id": "85c5c8a9",
   "metadata": {},
   "outputs": [
    {
     "data": {
      "text/plain": [
       "554"
      ]
     },
     "execution_count": 4,
     "metadata": {},
     "output_type": "execute_result"
    }
   ],
   "source": [
    "flen"
   ]
  },
  {
   "cell_type": "code",
   "execution_count": 5,
   "id": "3491c74b",
   "metadata": {},
   "outputs": [
    {
     "data": {
      "text/plain": [
       "554"
      ]
     },
     "execution_count": 5,
     "metadata": {},
     "output_type": "execute_result"
    }
   ],
   "source": [
    "flen"
   ]
  },
  {
   "cell_type": "code",
   "execution_count": null,
   "id": "d1e923d8",
   "metadata": {},
   "outputs": [],
   "source": []
  }
 ],
 "metadata": {
  "kernelspec": {
   "display_name": "Python 3 (ipykernel)",
   "language": "python",
   "name": "python3"
  },
  "language_info": {
   "codemirror_mode": {
    "name": "ipython",
    "version": 3
   },
   "file_extension": ".py",
   "mimetype": "text/x-python",
   "name": "python",
   "nbconvert_exporter": "python",
   "pygments_lexer": "ipython3",
   "version": "3.8.3"
  }
 },
 "nbformat": 4,
 "nbformat_minor": 5
}
