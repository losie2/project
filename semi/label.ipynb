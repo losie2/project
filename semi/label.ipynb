{
 "cells": [
  {
   "cell_type": "markdown",
   "id": "54f301d3",
   "metadata": {},
   "source": [
    "# 이미지 resize"
   ]
  },
  {
   "cell_type": "code",
   "execution_count": null,
   "id": "c923ebba",
   "metadata": {
    "scrolled": true
   },
   "outputs": [],
   "source": [
    "from PIL import Image\n",
    "import os.path\n",
    "import os\n",
    "import glob\n",
    "\n",
    "targerdir = r\"Write your custom dataset PATH\" #해당 폴더 설정 \n",
    "\n",
    "files = os.listdir(targerdir)\n",
    "\n",
    "index = 0\n",
    "\n",
    "format = [\".jpg\",\".png\",\".jpeg\",\"bmp\",\".JPG\",\".PNG\",\"JPEG\",\"BMP\"] #지원하는 파일 형태의 확장자들\n",
    "for (path,dirs,files) in os.walk(targerdir):\n",
    "    for file in files:\n",
    "        if file.endswith(tuple(format)):\n",
    "                image = Image.open(path+\"\\\\\"+file)\n",
    "        if image.size == (416, 416):\n",
    "            continue\n",
    "        print(image.filename)\n",
    "        print(image.size)\n",
    "        index += 1\n",
    "        image=image.resize((416, 416))\n",
    "        image.save(path+\"\\\\\"+file)\n",
    "        print(image.size)\n",
    "    else:\n",
    "        print(path)\n",
    "        print(\"InValid\",file)"
   ]
  }
 ],
 "metadata": {
  "kernelspec": {
   "display_name": "Python 3 (ipykernel)",
   "language": "python",
   "name": "python3"
  },
  "language_info": {
   "codemirror_mode": {
    "name": "ipython",
    "version": 3
   },
   "file_extension": ".py",
   "mimetype": "text/x-python",
   "name": "python",
   "nbconvert_exporter": "python",
   "pygments_lexer": "ipython3",
   "version": "3.8.3"
  }
 },
 "nbformat": 4,
 "nbformat_minor": 5
}
