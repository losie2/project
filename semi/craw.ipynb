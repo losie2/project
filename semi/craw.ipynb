{
 "cells": [
  {
   "cell_type": "markdown",
   "id": "ad106051",
   "metadata": {},
   "source": [
    "## 이미지 크롤링"
   ]
  },
  {
   "cell_type": "code",
   "execution_count": null,
   "id": "00571fac",
   "metadata": {},
   "outputs": [],
   "source": [
    "from selenium import webdriver\n",
    "import time\n",
    "from urllib.request import (urlopen, urlparse, urlunparse, urlretrieve)"
   ]
  },
  {
   "cell_type": "code",
   "execution_count": null,
   "id": "f9ddb479",
   "metadata": {},
   "outputs": [],
   "source": [
    "chrome_path='C:\\chromedriver\\chromedriver.exe'\n",
    "base_url = \"https://www.google.co.kr/imghp\""
   ]
  },
  {
   "cell_type": "code",
   "execution_count": null,
   "id": "75a32d7f",
   "metadata": {},
   "outputs": [],
   "source": [
    "chrome_options = webdriver.ChromeOptions()\n",
    "chrome_options.add_argument(\"lang=ko_KR\")\n",
    "chrome_options.add_argument('window-size=1920x1080')\n",
    "\n",
    "driver = webdriver.Chrome(chrome_path,chrome_options=chrome_options)\n",
    "driver.get(base_url)\n",
    "driver.implicitly_wait(3) # element가 로드될 때까지 지정한 시간만큼 대기할 수 있도록 설정\n",
    "driver.get_screenshot_as_file('google_screen.png')\n",
    "driver.close()"
   ]
  },
  {
   "cell_type": "code",
   "execution_count": null,
   "id": "dac6096b",
   "metadata": {},
   "outputs": [],
   "source": [
    "def selenium_scroll_option():\n",
    "  SCROLL_PAUSE_SEC = 3\n",
    "  \n",
    "  # 스크롤 높이 가져옴\n",
    "  last_height = driver.execute_script(\"return document.body.scrollHeight\")\n",
    "  \n",
    "  while True:\n",
    "    # 끝까지 스크롤 다운\n",
    "    driver.execute_script(\"window.scrollTo(0, document.body.scrollHeight);\")\n",
    "\n",
    "    # 1초 대기\n",
    "    time.sleep(SCROLL_PAUSE_SEC)\n",
    "\n",
    "    # 스크롤 다운 후 스크롤 높이 다시 가져옴\n",
    "    new_height = driver.execute_script(\"return document.body.scrollHeight\")\n",
    "  \n",
    "    if new_height == last_height:\n",
    "        break\n",
    "    last_height = new_height"
   ]
  },
  {
   "cell_type": "code",
   "execution_count": null,
   "id": "6a613d60",
   "metadata": {},
   "outputs": [],
   "source": [
    "import os"
   ]
  },
  {
   "cell_type": "code",
   "execution_count": null,
   "id": "06542f37",
   "metadata": {},
   "outputs": [],
   "source": [
    "directory_list = [\n",
    "    './dataset/carrot/',\n",
    "    './dataset/cucumber/',\n",
    "    './dataset/garlic/',\n",
    "    './dataset/onion/',\n",
    "    './dataset/potato/',\n",
    "    './dataset/banana/',\n",
    "    './dataset/pengi_mushroom/',\n",
    "    './dataset/pork/',\n",
    "    './dataset/strawberry/',\n",
    "]\n",
    "\n",
    "# 초기 디렉토리 만들기\n",
    "for directory in directory_list:\n",
    "    if not os.path.isdir(directory):\n",
    "        os.makedirs(directory)"
   ]
  },
  {
   "cell_type": "code",
   "execution_count": null,
   "id": "24d712a6",
   "metadata": {
    "scrolled": false
   },
   "outputs": [],
   "source": [
    "directory_list"
   ]
  },
  {
   "cell_type": "code",
   "execution_count": null,
   "id": "547edc2e",
   "metadata": {},
   "outputs": [],
   "source": [
    "carrot = './dataset/carrot/'\n",
    "cucumber = './dataset/cucumber/'\n",
    "garlic = './dataset/garlic/'\n",
    "onion = './dataset/onion/'\n",
    "potato = './dataset/potato/'\n",
    "banana = './dataset/banana/'\n",
    "pengi_mushroom = './dataset/pengi_mushroom/'\n",
    "pork = './dataset/pork/'\n",
    "strawberry = './dataset/strawberry/'"
   ]
  },
  {
   "cell_type": "code",
   "execution_count": null,
   "id": "6f861e26",
   "metadata": {},
   "outputs": [],
   "source": [
    "from selenium import webdriver\n",
    "from selenium.webdriver.common.keys import Keys\n",
    "import time\n",
    "import urllib.request\n",
    "import os\n",
    "import pandas as pd\n",
    "\n",
    "# 키워드 검색하기\n",
    "\n",
    "a=input(\"검색할 키워드를 입력 : \")\n",
    "image_name = input(\"저장할 이미지 이름 : \")\n",
    "#b=int(input(\"몇 개 저장할래? : \"))\n",
    "driver = webdriver.Chrome(chrome_path)\n",
    "driver.get('http://www.google.co.kr/imghp?hl=ko')\n",
    "browser = driver.find_element_by_name(\"q\")\n",
    "browser.send_keys(a)\n",
    "browser.send_keys(Keys.RETURN)\n",
    "\n",
    "\n",
    "\n",
    "# 클래스를 찾고 해당 클래스의 src 리스트를 만들자\n",
    "\n",
    "selenium_scroll_option() # 스크롤하여 이미지를 많이 확보\n",
    "driver.find_elements_by_xpath('//*[@id=\"islmp\"]/div/div/div/div[1]/div[2]/div[2]/input')[0].click() # 이미지 더보기 클릭\n",
    "selenium_scroll_option()\n",
    "\n",
    "\n",
    "\n",
    "'''이미지 src요소를 리스트업해서 이미지 url 저장'''\n",
    "\n",
    "images = driver.find_elements_by_css_selector(\".rg_i.Q4LuWd\") #  클래스 네임에서 공백은 .을 찍어줌\n",
    "images_url = []\n",
    "for i in images: \n",
    "   \n",
    "   if i.get_attribute('src')!= None :\n",
    "        images_url.append(i.get_attribute('src'))\n",
    "   else :\n",
    "       images_url.append(i.get_attribute('data-src'))\n",
    "driver.close()\n",
    "\n",
    "\n",
    "\n",
    "# 겹치는 이미지 url 제거\n",
    "\n",
    "print(\"전체 다운로드한 이미지 개수: {}\\n동일한 이미지를 제거한 이미지 개수: {}\".format(len(images_url), len(pd.DataFrame(images_url)[0].unique())))\n",
    "images_url=pd.DataFrame(images_url)[0].unique()\n",
    "\n",
    "\n",
    "        \n",
    "#'''해당하는 파일에 이미지 다운로드'''        \n",
    "   \n",
    "\n",
    "if image_name == 'carrot' :\n",
    "    for t, url in enumerate(images_url, 0):        \n",
    "        urlretrieve(url, carrot + image_name + '_' + str(t) + '.jpg')\n",
    "    driver.close()    \n",
    "    \n",
    "elif image_name == 'cucumber' :\n",
    "    for t, url in enumerate(images_url, 0):        \n",
    "        urlretrieve(url, cucumber + image_name + '_' + str(t) + '.jpg')\n",
    "    driver.close()\n",
    "    \n",
    "    \n",
    "elif image_name == 'garlic' :\n",
    "    for t, url in enumerate(images_url, 0):        \n",
    "        urlretrieve(url, garlic + image_name + '_' + str(t) + '.jpg')\n",
    "    driver.close()    \n",
    "\n",
    "elif image_name == 'potato' :   \n",
    "    for t, url in enumerate(images_url, 0):        \n",
    "        urlretrieve(url, potato + image_name + '_' + str(t) + '.jpg')\n",
    "    driver.close()\n",
    "    \n",
    "\n",
    "\n",
    "\n",
    "\n",
    "\n",
    "elif image_name == 'pengi_mushroom' :\n",
    "    for t, url in enumerate(images_url, 0):        \n",
    "        urlretrieve(url, pengi_mushroom + image_name + '_' + str(t) + '.jpg')\n",
    "    driver.close()\n",
    "\n",
    "elif image_name == 'strawberry' :\n",
    "    for t, url in enumerate(images_url, 0):        \n",
    "        urlretrieve(url, strawberry + image_name + '_' + str(t) + '.jpg')\n",
    "    driver.close()\n",
    "\n",
    "elif image_name == 'pork' :\n",
    "    for t, url in enumerate(images_url, 0):        \n",
    "        urlretrieve(url, pork + image_name + '_' + str(t) + '.jpg')\n",
    "    driver.close()\n",
    "\n",
    "elif image_name == 'onion' :\n",
    "    for t, url in enumerate(images_url, 0):        \n",
    "        urlretrieve(url, onion + image_name + '_' + str(t) + '.jpg')\n",
    "    driver.close()\n",
    "\n",
    "elif image_name == 'banana' :\n",
    "    for t, url in enumerate(images_url, 0):        \n",
    "        urlretrieve(url, banana + image_name + '_' + str(t) + '.jpg')\n",
    "    driver.close()"
   ]
  },
  {
   "cell_type": "code",
   "execution_count": null,
   "id": "3cae1b7e",
   "metadata": {},
   "outputs": [],
   "source": []
  }
 ],
 "metadata": {
  "kernelspec": {
   "display_name": "Python 3 (ipykernel)",
   "language": "python",
   "name": "python3"
  },
  "language_info": {
   "codemirror_mode": {
    "name": "ipython",
    "version": 3
   },
   "file_extension": ".py",
   "mimetype": "text/x-python",
   "name": "python",
   "nbconvert_exporter": "python",
   "pygments_lexer": "ipython3",
   "version": "3.8.3"
  }
 },
 "nbformat": 4,
 "nbformat_minor": 5
}
