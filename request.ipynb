{
 "cells": [
  {
   "cell_type": "markdown",
   "id": "1eefab40",
   "metadata": {},
   "source": [
    "# 현 졸작 서버"
   ]
  },
  {
   "cell_type": "code",
   "execution_count": null,
   "id": "3f0c0446",
   "metadata": {
    "scrolled": true
   },
   "outputs": [
    {
     "name": "stdout",
     "output_type": "stream",
     "text": [
      " * Serving Flask app '__main__' (lazy loading)\n",
      " * Environment: production\n",
      "\u001b[31m   WARNING: This is a development server. Do not use it in a production deployment.\u001b[0m\n",
      "\u001b[2m   Use a production WSGI server instead.\u001b[0m\n",
      " * Debug mode: off\n"
     ]
    },
    {
     "name": "stderr",
     "output_type": "stream",
     "text": [
      " * Running on http://127.0.0.1:5000 (Press CTRL+C to quit)\n",
      "127.0.0.1 - - [21/May/2022 16:11:14] \"POST / HTTP/1.1\" 400 -\n",
      "127.0.0.1 - - [21/May/2022 16:12:02] \"POST / HTTP/1.1\" 400 -\n"
     ]
    }
   ],
   "source": [
    "import io\n",
    "from flask_ngrok import run_with_ngrok\n",
    "from flask import Flask, jsonify, request\n",
    "import torch\n",
    "from PIL import Image\n",
    "import json\n",
    "\n",
    "# 이미지를 읽어 결과를 반환하는 함수\n",
    "def get_prediction(image_bytes):\n",
    "    image = Image.open(io.BytesIO(image_bytes)) # 이미지 읽어온 후 byte로 반환.\n",
    "    \n",
    "    model = torch.hub.load('ultralytics/yolov5', 'custom', 'C:\\\\Users\\\\Losie\\\\content2\\\\yolov5\\\\runs\\\\train\\\\my_food\\\\weights\\\\best.pt') # 학습된 모델로 판단.# 학습된 모델로 판단.\n",
    "\n",
    "    result = model(image) # 판단 값\n",
    "\n",
    "    image_len = len(result.pandas().xyxy[0]['name'])\n",
    "    \n",
    "    image_list = []\n",
    "\n",
    "    for i in range(image_len):\n",
    "        image_list.append(result.pandas().xyxy[0]['name'][i])\n",
    "    \n",
    "    return image_list # class만 추출.\n",
    "\n",
    "\n",
    "app = Flask(__name__)\n",
    "\n",
    "\n",
    "@app.route('/', methods=['POST'])\n",
    "def predict():\n",
    "    if request.method == 'POST':\n",
    "        # 이미지 바이트 데이터 받아오기\n",
    "        file = request.files['file']\n",
    "        image_bytes = file.read()\n",
    "\n",
    "        # 분류 결과 확인 및 클라이언트에게 결과 반환\n",
    "        class_name = get_prediction(image_bytes=image_bytes)\n",
    "        \n",
    "        return jsonify({'class_name': class_name})\n",
    "        \n",
    "app.run()"
   ]
  }
 ],
 "metadata": {
  "kernelspec": {
   "display_name": "Python 3 (ipykernel)",
   "language": "python",
   "name": "python3"
  },
  "language_info": {
   "codemirror_mode": {
    "name": "ipython",
    "version": 3
   },
   "file_extension": ".py",
   "mimetype": "text/x-python",
   "name": "python",
   "nbconvert_exporter": "python",
   "pygments_lexer": "ipython3",
   "version": "3.8.13"
  }
 },
 "nbformat": 4,
 "nbformat_minor": 5
}
